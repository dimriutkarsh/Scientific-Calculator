import numpy as np


import numpy as np

def basic_operations():
    print("\n-- Basic Operations --")
    print("1. Addition")
    print("2. Subtraction")
    print("3. Multiplication")
    print("4. Division")
    print("5. Power")
    print("6. Square Root")
    
    choice = int(input("ENTER YOUR OPERATION (1-6): "))

    if choice == 6:
        print("YOU SELECTED SQUARE ROOT")
        num = float(input("Enter your number: "))
        sq_root = np.sqrt(num)
        print(f"SQUARE ROOT OF {num} is {sq_root}")

    else:
        a = float(input("Enter first number: "))
        b = float(input("Enter second number: "))

        if choice == 1:
            print("Addition:", np.add(a, b))
        elif choice == 2:
            print("Subtraction:", np.subtract(a, b))
        elif choice == 3:
            print("Multiplication:", np.multiply(a, b))
        elif choice == 4:
            print("Division:", np.divide(a, b))
        elif choice == 5:
            print("Power:", np.power(a, b))
        else:
            print("Invalid choice")



def student_marks_analysis():
    print("\n1. USE RANDOM DATA")
    print("2. USE DATA FROM THE FILE")
    choice= int(input("enter your choice"))

    if choice==1:
        marks= np.random.randint(0,101,size=(50,5))
    elif choice==2:
        filename=input("ENTER THE FILE NAME {WITH EXTENSION}: ")
        try:
            marks=np.loadtxt(filename)
        except:
            print("FILE NOT FOUND OR INVALID DATA.")
            return
    else:
        print("INVALID CHOICE")

        
    print("\nStudent Marks:\n", marks)
    print("Average per Subject:", np.mean(marks, axis=0))
    print("Highest per Subject:", np.max(marks, axis=0))
    print("Lowest per Subject:", np.min(marks, axis=0))
    toppers = np.argmax(marks, axis=0)
    for i in range(5):
        print(f"Topper in Subject {i+1}: Student {toppers[i]}")
    

        


def weather_analyzer():
    print("1. use random data")
    print("2.Use data from file")
    choice= int(input("enter your choice"))

    if choice == 1:
        temps = np.random.uniform(10, 45, 365)
    elif choice == 2:
        filename = input("Enter filename (with extension): ")
        try:
            temps = np.loadtxt(filename)
        except:
            print("File not found or invalid data.")
            return
    else:
        print("Invalid choice.")
        return

    hottest_day= np.argmax(temps) +1
    coldest_day= np.argmin(temps) +1
    print(f"hottest day : {hottest_day} and temprature={temp[hottest_day-1]:.2f}")
    print(f"hottest day : {hottest_day} and temprature={temp[coldest_day-1]:.2f}")
    monthly_avg=[np.mean(month) for month in np.array_split(temps,12)]
    print("monthly average temprature :")

    for i , avg in enumerate(monthly_avg):
        print(f"Month {i+1}: {avg:.2f}°C")
    heatwave_days = np.where(temps > 35)
    print("Heatwave Days:", heatwave_days[0]+1)
        
          


def dice_roll_simulator():
    rolls = np.random.randint(1, 7, 10000)
    frequency = np.bincount(rolls)[1:]
    print("Frequency of 1-6:\n", frequency)
    prob = np.sum(rolls > 4) / 10000
    print("Probability of rolling > 4:", prob)


def matrix_operations():
    A = []
    B = []
    print("Enter 9 numbers for Matrix A (row-wise):")
    for i in range(3):
        row = list(map(float, input(f"Row {i+1} (3 numbers separated by space): ").split()))
        A.append(row)
    A = np.array(A)

    print("Enter 9 numbers for Matrix B (row-wise):")
    for i in range(3):
        row = list(map(float, input(f"Row {i+1} (3 numbers separated by space): ").split()))
        B.append(row)
    B = np.array(B)
    print("Matrix A:\n", A)
    print("Matrix B:\n", B)
    print("A + B:\n", np.add(A, B))
    print("A - B:\n", np.subtract(A, B))
    print("A × B:\n", np.dot(A, B))
    print("Transpose of A:\n", np.transpose(A))
    det = np.linalg.det(A)
    print("Determinant of A:", det)
    if det != 0:
        print("Inverse of A:\n", np.linalg.inv(A))
    else:
        print("A is singular, no inverse.")


def linear_equation_solver():
    A = []
    print("Enter coefficients of 3 equations (3 numbers per line):")
    for i in range(3):
        row = list(map(float, input(f"Equation {i+1}: ").split()))
        A.append(row)
    A = np.array(A)

    B = []
    print("Enter constant terms (one per equation):")
    for i in range(3):
        const = float(input(f"Constant for Equation {i+1}: "))
        B.append(const)
    B = np.array(B)

    print("\nCoefficients Matrix (A):\n", A)
    print("Constants (B):", B)

    try:
        solution = np.linalg.solve(A, B)
        print("Solution (x, y, z):", solution)
    except np.linalg.LinAlgError:
        print("No unique solution (matrix may be singular).")


while True:
    print("\n******* NumPy Scientific Calculator *******")
    print("1. Basic Operations")
    print("2. Student Marks Analysis")
    print("3. Weather Data Analyzer")
    print("4. Dice Roll Simulator")
    print("5. Matrix Operations")
    print("6. Linear Equation Solver")
    print("7. Exit")
    ch = int(input("Enter your choice: "))

    if ch == 1:
        basic_operations()
    elif ch == 2:
        student_marks_analysis()
    elif ch == 3:
        weather_analyzer()
    elif ch == 4:
        dice_roll_simulator()
    elif ch == 5:
        matrix_operations()
    elif ch == 6:
        linear_equation_solver()
    elif ch == 7:
        print("Thank you for using the calculator!")
        break
    else:
        print("Invalid choice, please try again.")



