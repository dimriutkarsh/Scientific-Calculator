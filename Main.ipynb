{
 "cells": [
  {
   "cell_type": "code",
   "execution_count": 1,
   "id": "f8c1a828-062e-4ade-aab2-d47d8f496b22",
   "metadata": {},
   "outputs": [],
   "source": [
    "import numpy as np"
   ]
  },
  {
   "cell_type": "code",
   "execution_count": 4,
   "id": "f7b8d62f-9118-4537-9c19-f4f8f4d73d33",
   "metadata": {},
   "outputs": [],
   "source": [
    "import numpy as np\n",
    "\n",
    "def basic_operations():\n",
    "    print(\"\\n-- Basic Operations --\")\n",
    "    print(\"1. Addition\")\n",
    "    print(\"2. Subtraction\")\n",
    "    print(\"3. Multiplication\")\n",
    "    print(\"4. Division\")\n",
    "    print(\"5. Power\")\n",
    "    print(\"6. Square Root\")\n",
    "    \n",
    "    choice = int(input(\"ENTER YOUR OPERATION (1-6): \"))\n",
    "\n",
    "    if choice == 6:\n",
    "        print(\"YOU SELECTED SQUARE ROOT\")\n",
    "        num = float(input(\"Enter your number: \"))\n",
    "        sq_root = np.sqrt(num)\n",
    "        print(f\"SQUARE ROOT OF {num} is {sq_root}\")\n",
    "\n",
    "    else:\n",
    "        a = float(input(\"Enter first number: \"))\n",
    "        b = float(input(\"Enter second number: \"))\n",
    "\n",
    "        if choice == 1:\n",
    "            print(\"Addition:\", np.add(a, b))\n",
    "        elif choice == 2:\n",
    "            print(\"Subtraction:\", np.subtract(a, b))\n",
    "        elif choice == 3:\n",
    "            print(\"Multiplication:\", np.multiply(a, b))\n",
    "        elif choice == 4:\n",
    "            print(\"Division:\", np.divide(a, b))\n",
    "        elif choice == 5:\n",
    "            print(\"Power:\", np.power(a, b))\n",
    "        else:\n",
    "            print(\"Invalid choice\")\n"
   ]
  },
  {
   "cell_type": "code",
   "execution_count": 5,
   "id": "833cfb50-0ec3-493f-aacf-8911231c87b6",
   "metadata": {},
   "outputs": [],
   "source": [
    "def student_marks_analysis():\n",
    "    print(\"\\n1. USE RANDOM DATA\")\n",
    "    print(\"2. USE DATA FROM THE FILE\")\n",
    "    choice= int(input(\"enter your choice\"))\n",
    "\n",
    "    if choice==1:\n",
    "        marks= np.random.randint(0,101,size=(50,5))\n",
    "    elif choice==2:\n",
    "        filename=input(\"ENTER THE FILE NAME {WITH EXTENSION}: \")\n",
    "        try:\n",
    "            marks=np.loadtxt(filename)\n",
    "        except:\n",
    "            print(\"FILE NOT FOUND OR INVALID DATA.\")\n",
    "            return\n",
    "    else:\n",
    "        print(\"INVALID CHOICE\")\n",
    "\n",
    "        \n",
    "    print(\"\\nStudent Marks:\\n\", marks)\n",
    "    print(\"Average per Subject:\", np.mean(marks, axis=0))\n",
    "    print(\"Highest per Subject:\", np.max(marks, axis=0))\n",
    "    print(\"Lowest per Subject:\", np.min(marks, axis=0))\n",
    "    toppers = np.argmax(marks, axis=0)\n",
    "    for i in range(5):\n",
    "        print(f\"Topper in Subject {i+1}: Student {toppers[i]}\")\n",
    "    \n",
    "\n",
    "        "
   ]
  },
  {
   "cell_type": "code",
   "execution_count": 6,
   "id": "517055f1-2afd-4738-b1ce-67fe627f99c3",
   "metadata": {},
   "outputs": [],
   "source": [
    "def weather_analyzer():\n",
    "    print(\"1. use random data\")\n",
    "    print(\"2.Use data from file\")\n",
    "    choice= int(input(\"enter your choice\"))\n",
    "\n",
    "    if choice == 1:\n",
    "        temps = np.random.uniform(10, 45, 365)\n",
    "    elif choice == 2:\n",
    "        filename = input(\"Enter filename (with extension): \")\n",
    "        try:\n",
    "            temps = np.loadtxt(filename)\n",
    "        except:\n",
    "            print(\"File not found or invalid data.\")\n",
    "            return\n",
    "    else:\n",
    "        print(\"Invalid choice.\")\n",
    "        return\n",
    "\n",
    "    hottest_day= np.argmax(temps) +1\n",
    "    coldest_day= np.argmin(temps) +1\n",
    "    print(f\"hottest day : {hottest_day} and temprature={temp[hottest_day-1]:.2f}\")\n",
    "    print(f\"hottest day : {hottest_day} and temprature={temp[coldest_day-1]:.2f}\")\n",
    "    monthly_avg=[np.mean(month) for month in np.array_split(temps,12)]\n",
    "    print(\"monthly average temprature :\")\n",
    "\n",
    "    for i , avg in enumerate(monthly_avg):\n",
    "        print(f\"Month {i+1}: {avg:.2f}°C\")\n",
    "    heatwave_days = np.where(temps > 35)\n",
    "    print(\"Heatwave Days:\", heatwave_days[0]+1)\n",
    "        \n",
    "          "
   ]
  },
  {
   "cell_type": "code",
   "execution_count": 7,
   "id": "7dd5c9ea-916d-4f59-b692-ee04b0ce3c10",
   "metadata": {},
   "outputs": [],
   "source": [
    "def dice_roll_simulator():\n",
    "    rolls = np.random.randint(1, 7, 10000)\n",
    "    frequency = np.bincount(rolls)[1:]\n",
    "    print(\"Frequency of 1-6:\\n\", frequency)\n",
    "    prob = np.sum(rolls > 4) / 10000\n",
    "    print(\"Probability of rolling > 4:\", prob)"
   ]
  },
  {
   "cell_type": "code",
   "execution_count": 9,
   "id": "056bfdaa-5170-427b-aa9e-14f430d6baf4",
   "metadata": {},
   "outputs": [],
   "source": [
    "def matrix_operations():\n",
    "    A = []\n",
    "    B = []\n",
    "    print(\"Enter 9 numbers for Matrix A (row-wise):\")\n",
    "    for i in range(3):\n",
    "        row = list(map(float, input(f\"Row {i+1} (3 numbers separated by space): \").split()))\n",
    "        A.append(row)\n",
    "    A = np.array(A)\n",
    "\n",
    "    print(\"Enter 9 numbers for Matrix B (row-wise):\")\n",
    "    for i in range(3):\n",
    "        row = list(map(float, input(f\"Row {i+1} (3 numbers separated by space): \").split()))\n",
    "        B.append(row)\n",
    "    B = np.array(B)\n",
    "    print(\"Matrix A:\\n\", A)\n",
    "    print(\"Matrix B:\\n\", B)\n",
    "    print(\"A + B:\\n\", np.add(A, B))\n",
    "    print(\"A - B:\\n\", np.subtract(A, B))\n",
    "    print(\"A × B:\\n\", np.dot(A, B))\n",
    "    print(\"Transpose of A:\\n\", np.transpose(A))\n",
    "    det = np.linalg.det(A)\n",
    "    print(\"Determinant of A:\", det)\n",
    "    if det != 0:\n",
    "        print(\"Inverse of A:\\n\", np.linalg.inv(A))\n",
    "    else:\n",
    "        print(\"A is singular, no inverse.\")"
   ]
  },
  {
   "cell_type": "code",
   "execution_count": 12,
   "id": "59cca0c3-9aa3-4d5b-9c87-03dcb4664fc9",
   "metadata": {},
   "outputs": [],
   "source": [
    "def linear_equation_solver():\n",
    "    A = []\n",
    "    print(\"Enter coefficients of 3 equations (3 numbers per line):\")\n",
    "    for i in range(3):\n",
    "        row = list(map(float, input(f\"Equation {i+1}: \").split()))\n",
    "        A.append(row)\n",
    "    A = np.array(A)\n",
    "\n",
    "    B = []\n",
    "    print(\"Enter constant terms (one per equation):\")\n",
    "    for i in range(3):\n",
    "        const = float(input(f\"Constant for Equation {i+1}: \"))\n",
    "        B.append(const)\n",
    "    B = np.array(B)\n",
    "\n",
    "    print(\"\\nCoefficients Matrix (A):\\n\", A)\n",
    "    print(\"Constants (B):\", B)\n",
    "\n",
    "    try:\n",
    "        solution = np.linalg.solve(A, B)\n",
    "        print(\"Solution (x, y, z):\", solution)\n",
    "    except np.linalg.LinAlgError:\n",
    "        print(\"No unique solution (matrix may be singular).\")"
   ]
  },
  {
   "cell_type": "code",
   "execution_count": 13,
   "id": "baecad8c-c293-4269-aa0b-5e7c960280d1",
   "metadata": {},
   "outputs": [
    {
     "name": "stdout",
     "output_type": "stream",
     "text": [
      "\n",
      "******* NumPy Scientific Calculator *******\n",
      "1. Basic Operations\n",
      "2. Student Marks Analysis\n",
      "3. Weather Data Analyzer\n",
      "4. Dice Roll Simulator\n",
      "5. Matrix Operations\n",
      "6. Linear Equation Solver\n",
      "7. Exit\n"
     ]
    },
    {
     "name": "stdin",
     "output_type": "stream",
     "text": [
      "Enter your choice:  1\n"
     ]
    },
    {
     "name": "stdout",
     "output_type": "stream",
     "text": [
      "\n",
      "-- Basic Operations --\n",
      "1. Addition\n",
      "2. Subtraction\n",
      "3. Multiplication\n",
      "4. Division\n",
      "5. Power\n",
      "6. Square Root\n"
     ]
    },
    {
     "name": "stdin",
     "output_type": "stream",
     "text": [
      "ENTER YOUR OPERATION (1-6):  1\n",
      "Enter first number:  23\n",
      "Enter second number:  34\n"
     ]
    },
    {
     "name": "stdout",
     "output_type": "stream",
     "text": [
      "Addition: 57.0\n",
      "\n",
      "******* NumPy Scientific Calculator *******\n",
      "1. Basic Operations\n",
      "2. Student Marks Analysis\n",
      "3. Weather Data Analyzer\n",
      "4. Dice Roll Simulator\n",
      "5. Matrix Operations\n",
      "6. Linear Equation Solver\n",
      "7. Exit\n"
     ]
    },
    {
     "name": "stdin",
     "output_type": "stream",
     "text": [
      "Enter your choice:  7\n"
     ]
    },
    {
     "name": "stdout",
     "output_type": "stream",
     "text": [
      "Thank you for using the calculator!\n"
     ]
    }
   ],
   "source": [
    "while True:\n",
    "    print(\"\\n******* NumPy Scientific Calculator *******\")\n",
    "    print(\"1. Basic Operations\")\n",
    "    print(\"2. Student Marks Analysis\")\n",
    "    print(\"3. Weather Data Analyzer\")\n",
    "    print(\"4. Dice Roll Simulator\")\n",
    "    print(\"5. Matrix Operations\")\n",
    "    print(\"6. Linear Equation Solver\")\n",
    "    print(\"7. Exit\")\n",
    "    ch = int(input(\"Enter your choice: \"))\n",
    "\n",
    "    if ch == 1:\n",
    "        basic_operations()\n",
    "    elif ch == 2:\n",
    "        student_marks_analysis()\n",
    "    elif ch == 3:\n",
    "        weather_analyzer()\n",
    "    elif ch == 4:\n",
    "        dice_roll_simulator()\n",
    "    elif ch == 5:\n",
    "        matrix_operations()\n",
    "    elif ch == 6:\n",
    "        linear_equation_solver()\n",
    "    elif ch == 7:\n",
    "        print(\"Thank you for using the calculator!\")\n",
    "        break\n",
    "    else:\n",
    "        print(\"Invalid choice, please try again.\")"
   ]
  },
  {
   "cell_type": "code",
   "execution_count": null,
   "id": "ac39068c-6e95-497a-b290-c53c21a6c58e",
   "metadata": {},
   "outputs": [],
   "source": []
  }
 ],
 "metadata": {
  "kernelspec": {
   "display_name": "Python 3 (ipykernel)",
   "language": "python",
   "name": "python3"
  },
  "language_info": {
   "codemirror_mode": {
    "name": "ipython",
    "version": 3
   },
   "file_extension": ".py",
   "mimetype": "text/x-python",
   "name": "python",
   "nbconvert_exporter": "python",
   "pygments_lexer": "ipython3",
   "version": "3.13.5"
  }
 },
 "nbformat": 4,
 "nbformat_minor": 5
}
